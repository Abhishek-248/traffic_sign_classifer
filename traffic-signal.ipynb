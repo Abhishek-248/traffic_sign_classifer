{
 "cells": [
  {
   "cell_type": "code",
   "execution_count": 1,
   "id": "ffdc7acc",
   "metadata": {
    "execution": {
     "iopub.execute_input": "2023-07-17T16:31:55.843442Z",
     "iopub.status.busy": "2023-07-17T16:31:55.842891Z",
     "iopub.status.idle": "2023-07-17T16:32:05.998500Z",
     "shell.execute_reply": "2023-07-17T16:32:05.997139Z"
    },
    "papermill": {
     "duration": 10.165382,
     "end_time": "2023-07-17T16:32:06.001586",
     "exception": false,
     "start_time": "2023-07-17T16:31:55.836204",
     "status": "completed"
    },
    "tags": []
   },
   "outputs": [],
   "source": [
    "# Fundamental classes\n",
    "import warnings\n",
    "warnings.filterwarnings('ignore')\n",
    "import numpy as np \n",
    "import pandas as pd \n",
    "import tensorflow as tf\n",
    "import os\n",
    "\n",
    "# Image related\n",
    "import cv2\n",
    "from PIL import Image\n",
    "\n",
    "#Performance Plot\n",
    "from sklearn import metrics \n",
    "from sklearn.metrics import f1_score, accuracy_score,confusion_matrix,classification_report\n",
    "import matplotlib.pyplot as plt\n",
    "import seaborn as sns\n",
    "%matplotlib inline\n",
    "\n",
    "# For the model and it's training\n",
    "from sklearn.model_selection import train_test_split\n",
    "from tensorflow.keras.utils import to_categorical\n",
    "from tensorflow.keras.models import Sequential, load_model\n",
    "from tensorflow.keras.layers import Conv2D, MaxPool2D, Dense, Flatten, Dropout"
   ]
  },
  {
   "cell_type": "markdown",
   "id": "93a2b9b0",
   "metadata": {
    "papermill": {
     "duration": 0.004974,
     "end_time": "2023-07-17T16:32:06.012098",
     "exception": false,
     "start_time": "2023-07-17T16:32:06.007124",
     "status": "completed"
    },
    "tags": []
   },
   "source": [
    "# Loading Dataset (Traffic Signs Images)"
   ]
  },
  {
   "cell_type": "code",
   "execution_count": 2,
   "id": "830c4154",
   "metadata": {
    "execution": {
     "iopub.execute_input": "2023-07-17T16:32:06.024123Z",
     "iopub.status.busy": "2023-07-17T16:32:06.023447Z",
     "iopub.status.idle": "2023-07-17T16:37:54.547810Z",
     "shell.execute_reply": "2023-07-17T16:37:54.546700Z"
    },
    "papermill": {
     "duration": 348.533435,
     "end_time": "2023-07-17T16:37:54.550556",
     "exception": false,
     "start_time": "2023-07-17T16:32:06.017121",
     "status": "completed"
    },
    "tags": []
   },
   "outputs": [],
   "source": [
    "# Setting variables for later use\n",
    "data = []\n",
    "labels = []\n",
    "classes = 43\n",
    "cur_path = os.getcwd()\n",
    "\n",
    "# Retrieving the images and their labels \n",
    "for i in range(classes):\n",
    "    path = os.path.join('../input/gtsrb-german-traffic-sign/','train',str(i))\n",
    "    images = os.listdir(path)\n",
    "    \n",
    "    for a in images:\n",
    "        try:\n",
    "            image = Image.open(path + '/'+ a)\n",
    "            image = image.resize((30,30))\n",
    "            image = np.array(image)\n",
    "            #sim = Image.fromarray(image)\n",
    "            data.append(image)\n",
    "            labels.append(i)\n",
    "        except:\n",
    "            pass\n",
    "\n",
    "\n",
    "# Converting lists into numpy arrays\n",
    "data = np.array(data)\n",
    "labels = np.array(labels)"
   ]
  },
  {
   "cell_type": "markdown",
   "id": "05f2fe08",
   "metadata": {
    "papermill": {
     "duration": 0.0042,
     "end_time": "2023-07-17T16:37:54.559549",
     "exception": false,
     "start_time": "2023-07-17T16:37:54.555349",
     "status": "completed"
    },
    "tags": []
   },
   "source": [
    "# Data Splitting and conversion"
   ]
  },
  {
   "cell_type": "code",
   "execution_count": 3,
   "id": "1d775070",
   "metadata": {
    "execution": {
     "iopub.execute_input": "2023-07-17T16:37:54.569770Z",
     "iopub.status.busy": "2023-07-17T16:37:54.569417Z",
     "iopub.status.idle": "2023-07-17T16:37:54.619723Z",
     "shell.execute_reply": "2023-07-17T16:37:54.618450Z"
    },
    "papermill": {
     "duration": 0.05995,
     "end_time": "2023-07-17T16:37:54.623787",
     "exception": false,
     "start_time": "2023-07-17T16:37:54.563837",
     "status": "completed"
    },
    "tags": []
   },
   "outputs": [
    {
     "name": "stdout",
     "output_type": "stream",
     "text": [
      "(39209, 30, 30, 3) (39209,)\n",
      "(31367, 30, 30, 3) (7842, 30, 30, 3) (31367,) (7842,)\n"
     ]
    }
   ],
   "source": [
    "# Checking data shape\n",
    "print(data.shape, labels.shape)\n",
    "\n",
    "# Splitting training and testing dataset\n",
    "X_train, X_test, y_train, y_test = train_test_split(data, labels, test_size=0.2, random_state=42)\n",
    "\n",
    "# Displaying the shape after the split\n",
    "print(X_train.shape, X_test.shape, y_train.shape, y_test.shape)\n",
    "\n",
    "# Converting the labels into one hot encoding\n",
    "y_train = to_categorical(y_train, 43)\n",
    "y_test = to_categorical(y_test, 43)"
   ]
  },
  {
   "cell_type": "markdown",
   "id": "44c3344b",
   "metadata": {
    "papermill": {
     "duration": 0.004397,
     "end_time": "2023-07-17T16:37:54.632909",
     "exception": false,
     "start_time": "2023-07-17T16:37:54.628512",
     "status": "completed"
    },
    "tags": []
   },
   "source": [
    "# Creating and Compiling the Model"
   ]
  },
  {
   "cell_type": "code",
   "execution_count": 4,
   "id": "555ae4d8",
   "metadata": {
    "execution": {
     "iopub.execute_input": "2023-07-17T16:37:54.643749Z",
     "iopub.status.busy": "2023-07-17T16:37:54.643394Z",
     "iopub.status.idle": "2023-07-17T16:37:57.798845Z",
     "shell.execute_reply": "2023-07-17T16:37:57.797941Z"
    },
    "papermill": {
     "duration": 3.182025,
     "end_time": "2023-07-17T16:37:57.819589",
     "exception": false,
     "start_time": "2023-07-17T16:37:54.637564",
     "status": "completed"
    },
    "tags": []
   },
   "outputs": [
    {
     "name": "stdout",
     "output_type": "stream",
     "text": [
      "Model: \"sequential\"\n",
      "_________________________________________________________________\n",
      " Layer (type)                Output Shape              Param #   \n",
      "=================================================================\n",
      " conv2d (Conv2D)             (None, 26, 26, 32)        2432      \n",
      "                                                                 \n",
      " conv2d_1 (Conv2D)           (None, 22, 22, 32)        25632     \n",
      "                                                                 \n",
      " max_pooling2d (MaxPooling2D  (None, 11, 11, 32)       0         \n",
      " )                                                               \n",
      "                                                                 \n",
      " dropout (Dropout)           (None, 11, 11, 32)        0         \n",
      "                                                                 \n",
      " conv2d_2 (Conv2D)           (None, 9, 9, 64)          18496     \n",
      "                                                                 \n",
      " conv2d_3 (Conv2D)           (None, 7, 7, 64)          36928     \n",
      "                                                                 \n",
      " max_pooling2d_1 (MaxPooling  (None, 3, 3, 64)         0         \n",
      " 2D)                                                             \n",
      "                                                                 \n",
      " dropout_1 (Dropout)         (None, 3, 3, 64)          0         \n",
      "                                                                 \n",
      " flatten (Flatten)           (None, 576)               0         \n",
      "                                                                 \n",
      " dense (Dense)               (None, 256)               147712    \n",
      "                                                                 \n",
      " dropout_2 (Dropout)         (None, 256)               0         \n",
      "                                                                 \n",
      " dense_1 (Dense)             (None, 43)                11051     \n",
      "                                                                 \n",
      "=================================================================\n",
      "Total params: 242,251\n",
      "Trainable params: 242,251\n",
      "Non-trainable params: 0\n",
      "_________________________________________________________________\n"
     ]
    }
   ],
   "source": [
    "# Building the model\n",
    "model = Sequential()\n",
    "model.add(Conv2D(filters=32, kernel_size=(5,5), activation='relu', input_shape=X_train.shape[1:]))\n",
    "model.add(Conv2D(filters=32, kernel_size=(5,5), activation='relu'))\n",
    "model.add(MaxPool2D(pool_size=(2, 2)))\n",
    "model.add(Dropout(rate=0.25))\n",
    "model.add(Conv2D(filters=64, kernel_size=(3, 3), activation='relu'))\n",
    "model.add(Conv2D(filters=64, kernel_size=(3, 3), activation='relu'))\n",
    "model.add(MaxPool2D(pool_size=(2, 2)))\n",
    "model.add(Dropout(rate=0.25))\n",
    "model.add(Flatten())\n",
    "model.add(Dense(256, activation='relu'))\n",
    "model.add(Dropout(rate=0.5))\n",
    "model.add(Dense(43, activation='softmax'))\n",
    "\n",
    "# Compilation of the model\n",
    "model.compile(loss='categorical_crossentropy', optimizer='adam', metrics=['accuracy'])\n",
    "\n",
    "#M odel display\n",
    "model.summary()"
   ]
  },
  {
   "cell_type": "markdown",
   "id": "5d30d400",
   "metadata": {
    "papermill": {
     "duration": 0.007071,
     "end_time": "2023-07-17T16:37:57.834140",
     "exception": false,
     "start_time": "2023-07-17T16:37:57.827069",
     "status": "completed"
    },
    "tags": []
   },
   "source": [
    "# Training the Model"
   ]
  },
  {
   "cell_type": "code",
   "execution_count": 5,
   "id": "2d321fad",
   "metadata": {
    "execution": {
     "iopub.execute_input": "2023-07-17T16:37:57.851481Z",
     "iopub.status.busy": "2023-07-17T16:37:57.851064Z",
     "iopub.status.idle": "2023-07-17T16:41:05.063314Z",
     "shell.execute_reply": "2023-07-17T16:41:05.061566Z"
    },
    "papermill": {
     "duration": 187.23332,
     "end_time": "2023-07-17T16:41:05.075088",
     "exception": false,
     "start_time": "2023-07-17T16:37:57.841768",
     "status": "completed"
    },
    "tags": []
   },
   "outputs": [
    {
     "name": "stdout",
     "output_type": "stream",
     "text": [
      "Epoch 1/25\n"
     ]
    },
    {
     "name": "stderr",
     "output_type": "stream",
     "text": [
      "2023-07-17 16:37:59.257418: E tensorflow/core/grappler/optimizers/meta_optimizer.cc:954] layout failed: INVALID_ARGUMENT: Size of values 0 does not match size of permutation 4 @ fanin shape insequential/dropout/dropout/SelectV2-2-TransposeNHWCToNCHW-LayoutOptimizer\n"
     ]
    },
    {
     "name": "stdout",
     "output_type": "stream",
     "text": [
      "981/981 [==============================] - 17s 7ms/step - loss: 1.4232 - accuracy: 0.6390 - val_loss: 0.2517 - val_accuracy: 0.9434\n",
      "Epoch 2/25\n",
      "981/981 [==============================] - 8s 8ms/step - loss: 0.3952 - accuracy: 0.8891 - val_loss: 0.1672 - val_accuracy: 0.9601\n",
      "Epoch 3/25\n",
      "981/981 [==============================] - 7s 7ms/step - loss: 0.2735 - accuracy: 0.9264 - val_loss: 0.0585 - val_accuracy: 0.9832\n",
      "Epoch 4/25\n",
      "981/981 [==============================] - 7s 7ms/step - loss: 0.2356 - accuracy: 0.9357 - val_loss: 0.0564 - val_accuracy: 0.9851\n",
      "Epoch 5/25\n",
      "981/981 [==============================] - 7s 7ms/step - loss: 0.2423 - accuracy: 0.9360 - val_loss: 0.1120 - val_accuracy: 0.9700\n",
      "Epoch 6/25\n",
      "981/981 [==============================] - 6s 7ms/step - loss: 0.2241 - accuracy: 0.9423 - val_loss: 0.0485 - val_accuracy: 0.9867\n",
      "Epoch 7/25\n",
      "981/981 [==============================] - 7s 7ms/step - loss: 0.2179 - accuracy: 0.9444 - val_loss: 0.0492 - val_accuracy: 0.9874\n",
      "Epoch 8/25\n",
      "981/981 [==============================] - 7s 7ms/step - loss: 0.1922 - accuracy: 0.9499 - val_loss: 0.0504 - val_accuracy: 0.9869\n",
      "Epoch 9/25\n",
      "981/981 [==============================] - 7s 7ms/step - loss: 0.1933 - accuracy: 0.9509 - val_loss: 0.0496 - val_accuracy: 0.9857\n",
      "Epoch 10/25\n",
      "981/981 [==============================] - 7s 7ms/step - loss: 0.1822 - accuracy: 0.9552 - val_loss: 0.0502 - val_accuracy: 0.9869\n",
      "Epoch 11/25\n",
      "981/981 [==============================] - 8s 8ms/step - loss: 0.1979 - accuracy: 0.9509 - val_loss: 0.0672 - val_accuracy: 0.9816\n",
      "Epoch 12/25\n",
      "981/981 [==============================] - 7s 7ms/step - loss: 0.1832 - accuracy: 0.9563 - val_loss: 0.0348 - val_accuracy: 0.9906\n",
      "Epoch 13/25\n",
      "981/981 [==============================] - 7s 7ms/step - loss: 0.1851 - accuracy: 0.9565 - val_loss: 0.0590 - val_accuracy: 0.9856\n",
      "Epoch 14/25\n",
      "981/981 [==============================] - 7s 7ms/step - loss: 0.2144 - accuracy: 0.9499 - val_loss: 0.0634 - val_accuracy: 0.9858\n",
      "Epoch 15/25\n",
      "981/981 [==============================] - 7s 7ms/step - loss: 0.2044 - accuracy: 0.9520 - val_loss: 0.0409 - val_accuracy: 0.9902\n",
      "Epoch 16/25\n",
      "981/981 [==============================] - 8s 8ms/step - loss: 0.1912 - accuracy: 0.9557 - val_loss: 0.0705 - val_accuracy: 0.9841\n",
      "Epoch 17/25\n",
      "981/981 [==============================] - 7s 7ms/step - loss: 0.2101 - accuracy: 0.9535 - val_loss: 0.0646 - val_accuracy: 0.9844\n",
      "Epoch 18/25\n",
      "981/981 [==============================] - 7s 7ms/step - loss: 0.1960 - accuracy: 0.9564 - val_loss: 0.0775 - val_accuracy: 0.9813\n",
      "Epoch 19/25\n",
      "981/981 [==============================] - 6s 6ms/step - loss: 0.1794 - accuracy: 0.9605 - val_loss: 0.0558 - val_accuracy: 0.9888\n",
      "Epoch 20/25\n",
      "981/981 [==============================] - 7s 7ms/step - loss: 0.2154 - accuracy: 0.9556 - val_loss: 0.0495 - val_accuracy: 0.9911\n",
      "Epoch 21/25\n",
      "981/981 [==============================] - 7s 8ms/step - loss: 0.1833 - accuracy: 0.9593 - val_loss: 0.0719 - val_accuracy: 0.9838\n",
      "Epoch 22/25\n",
      "981/981 [==============================] - 7s 7ms/step - loss: 0.2368 - accuracy: 0.9507 - val_loss: 0.0521 - val_accuracy: 0.9890\n",
      "Epoch 23/25\n",
      "981/981 [==============================] - 7s 7ms/step - loss: 0.1940 - accuracy: 0.9582 - val_loss: 0.1152 - val_accuracy: 0.9790\n",
      "Epoch 24/25\n",
      "981/981 [==============================] - 7s 7ms/step - loss: 0.2357 - accuracy: 0.9543 - val_loss: 0.0486 - val_accuracy: 0.9893\n",
      "Epoch 25/25\n",
      "981/981 [==============================] - 8s 8ms/step - loss: 0.2297 - accuracy: 0.9527 - val_loss: 0.0478 - val_accuracy: 0.9872\n"
     ]
    }
   ],
   "source": [
    "# Training the Model\n",
    "history1 = model.fit(X_train, y_train, batch_size=32, epochs=25, validation_data=(X_test, y_test))"
   ]
  },
  {
   "cell_type": "markdown",
   "id": "73ed1d98",
   "metadata": {
    "papermill": {
     "duration": 0.242376,
     "end_time": "2023-07-17T16:41:05.563896",
     "exception": false,
     "start_time": "2023-07-17T16:41:05.321520",
     "status": "completed"
    },
    "tags": []
   },
   "source": [
    "# Visualizing the performance of the Model during Training Phase"
   ]
  },
  {
   "cell_type": "code",
   "execution_count": 6,
   "id": "c2231ddc",
   "metadata": {
    "execution": {
     "iopub.execute_input": "2023-07-17T16:41:06.122930Z",
     "iopub.status.busy": "2023-07-17T16:41:06.122045Z",
     "iopub.status.idle": "2023-07-17T16:41:06.775268Z",
     "shell.execute_reply": "2023-07-17T16:41:06.774253Z"
    },
    "papermill": {
     "duration": 0.967279,
     "end_time": "2023-07-17T16:41:06.777691",
     "exception": false,
     "start_time": "2023-07-17T16:41:05.810412",
     "status": "completed"
    },
    "tags": []
   },
   "outputs": [
    {
     "data": {
      "image/png": "[encoded data removed]",
      "text/plain": [
       "<Figure size 2000x500 with 2 Axes>"
      ]
     },
     "metadata": {},
     "output_type": "display_data"
    }
   ],
   "source": [
    "# Performance Plot\n",
    "\n",
    "def plot_performance(history=None, figure_directory=None, ylim_pad=[0, 0]):\n",
    "    xlabel = 'Epoch'\n",
    "    legends = ['Training', 'Validation']\n",
    "\n",
    "    plt.figure(figsize=(20, 5))\n",
    "\n",
    "    y1 = history.history['accuracy']\n",
    "    y2 = history.history['val_accuracy']\n",
    "\n",
    "    min_y = min(min(y1), min(y2))-ylim_pad[0]\n",
    "    max_y = max(max(y1), max(y2))+ylim_pad[0]\n",
    "\n",
    "\n",
    "    plt.subplot(121)\n",
    "\n",
    "    plt.plot(y1)\n",
    "    plt.plot(y2)\n",
    "\n",
    "    plt.title('Model Accuracy\\n', fontsize=17)\n",
    "    plt.xlabel(xlabel, fontsize=15)\n",
    "    plt.ylabel('Accuracy', fontsize=15)\n",
    "    plt.ylim(min_y, max_y)\n",
    "    plt.legend(legends, loc='upper left')\n",
    "    plt.grid()\n",
    "\n",
    "    y1 = history.history['loss']\n",
    "    y2 = history.history['val_loss']\n",
    "\n",
    "    min_y = min(min(y1), min(y2))-ylim_pad[1]\n",
    "    max_y = max(max(y1), max(y2))+ylim_pad[1]\n",
    "\n",
    "\n",
    "    plt.subplot(122)\n",
    "\n",
    "    plt.plot(y1)\n",
    "    plt.plot(y2)\n",
    "\n",
    "    plt.title('Model Loss\\n', fontsize=17)\n",
    "    plt.xlabel(xlabel, fontsize=15)\n",
    "    plt.ylabel('Loss', fontsize=15)\n",
    "    plt.ylim(min_y, max_y)\n",
    "    plt.legend(legends, loc='upper left')\n",
    "    plt.grid()\n",
    "    if figure_directory:\n",
    "        plt.savefig(figure_directory+\"/history\")\n",
    "\n",
    "    plt.show()\n",
    "plot_performance(history=history1)"
   ]
  },
  {
   "cell_type": "markdown",
   "id": "f5b95f85",
   "metadata": {
    "papermill": {
     "duration": 0.246861,
     "end_time": "2023-07-17T16:41:07.270670",
     "exception": false,
     "start_time": "2023-07-17T16:41:07.023809",
     "status": "completed"
    },
    "tags": []
   },
   "source": [
    "# Loading Test Dataset and Evaluating the Model"
   ]
  },
  {
   "cell_type": "code",
   "execution_count": 7,
   "id": "9d85b64e",
   "metadata": {
    "execution": {
     "iopub.execute_input": "2023-07-17T16:41:07.767015Z",
     "iopub.status.busy": "2023-07-17T16:41:07.766636Z",
     "iopub.status.idle": "2023-07-17T16:43:32.644050Z",
     "shell.execute_reply": "2023-07-17T16:43:32.642959Z"
    },
    "papermill": {
     "duration": 145.130209,
     "end_time": "2023-07-17T16:43:32.647012",
     "exception": false,
     "start_time": "2023-07-17T16:41:07.516803",
     "status": "completed"
    },
    "tags": []
   },
   "outputs": [],
   "source": [
    "# testing accuracy on test dataset\n",
    "from sklearn.metrics import accuracy_score\n",
    "\n",
    "# Importing the test dataset\n",
    "y_test = pd.read_csv('../input/gtsrb-german-traffic-sign/Test.csv')\n",
    "\n",
    "labels = y_test[\"ClassId\"].values\n",
    "imgs = y_test[\"Path\"].values\n",
    "\n",
    "data=[]\n",
    "\n",
    "# Retreiving the images\n",
    "\n",
    "for img in imgs:\n",
    "    image = Image.open('../input/gtsrb-german-traffic-sign/'+img)\n",
    "    image = image.resize([30, 30])\n",
    "    data.append(np.array(image))\n",
    "\n",
    "X_test=np.array(data)"
   ]
  },
  {
   "cell_type": "code",
   "execution_count": 8,
   "id": "8e9abed5",
   "metadata": {
    "execution": {
     "iopub.execute_input": "2023-07-17T16:43:33.189341Z",
     "iopub.status.busy": "2023-07-17T16:43:33.188925Z",
     "iopub.status.idle": "2023-07-17T16:43:34.711500Z",
     "shell.execute_reply": "2023-07-17T16:43:34.710431Z"
    },
    "papermill": {
     "duration": 1.814147,
     "end_time": "2023-07-17T16:43:34.713708",
     "exception": false,
     "start_time": "2023-07-17T16:43:32.899561",
     "status": "completed"
    },
    "tags": []
   },
   "outputs": [
    {
     "name": "stdout",
     "output_type": "stream",
     "text": [
      "395/395 [==============================] - 1s 2ms/step\n",
      "0.9496437054631829\n"
     ]
    }
   ],
   "source": [
    "pred = np.argmax(model.predict(X_test), axis=-1)\n",
    "\n",
    "#Accuracy with the test data\n",
    "from sklearn.metrics import accuracy_score\n",
    "print(accuracy_score(labels, pred))"
   ]
  }
 ],
 "metadata": {
  "kernelspec": {
   "display_name": "Python 3",
   "language": "python",
   "name": "python3"
  },
  "language_info": {
   "codemirror_mode": {
    "name": "ipython",
    "version": 3
   },
   "file_extension": ".py",
   "mimetype": "text/x-python",
   "name": "python",
   "nbconvert_exporter": "python",
   "pygments_lexer": "ipython3",
   "version": "3.10.12"
  },
  "papermill": {
   "default_parameters": {},
   "duration": 713.391905,
   "end_time": "2023-07-17T16:43:38.305475",
   "environment_variables": {},
   "exception": null,
   "input_path": "__notebook__.ipynb",
   "output_path": "__notebook__.ipynb",
   "parameters": {},
   "start_time": "2023-07-17T16:31:44.913570",
   "version": "2.4.0"
  }
 },
 "nbformat": 4,
 "nbformat_minor": 5
}
